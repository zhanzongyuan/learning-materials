{
 "cells": [
  {
   "cell_type": "code",
   "execution_count": 9,
   "metadata": {},
   "outputs": [],
   "source": [
    "#coding=utf-8\n",
    "import numpy as np\n",
    "import pandas as pd\n",
    "import matplotlib.pyplot as plt\n",
    "import sklearn.cluster as cluster\n",
    "import random\n",
    "\n"
   ]
  },
  {
   "cell_type": "code",
   "execution_count": 10,
   "metadata": {},
   "outputs": [],
   "source": [
    "\n",
    "PATH_TRAIN = './input/train.csv'\n",
    "PATH_TEST = './input/test.csv'\n",
    "\n",
    "\n",
    "def import_data(path_train, path_test):\n",
    "    '''\n",
    "    Import train data and test data from path.\n",
    "    '''\n",
    "    data_train = pd.read_csv(path_train).as_matrix()\n",
    "    test_train = pd.read_csv(path_test).as_matrix()\n",
    "    return data_train, test_train\n",
    "\n",
    "def preprocess_raw_data(data):\n",
    "    '''\n",
    "    And divide it into train set and validation set with ratio 8 : 2.\n",
    "    Preprocess train data into sample, label.\n",
    "    '''\n",
    "    \n",
    "    # Shuffling data set.\n",
    "    random.shuffle(data)\n",
    "    \n",
    "    rate = 0.8\n",
    "    num_train = round(data.shape[0]*rate)\n",
    "    num_validation = data.shape[0]-num_train\n",
    "    \n",
    "    data_train = data[0: num_train, 1:]\n",
    "    labels_train = data[0: num_train, 0].reshape(num_train, 1)\n",
    "    data_validation = data[num_train:, 1:]\n",
    "    labels_validation = data[num_train:, 0].reshape(num_validation, 1)\n",
    "    \n",
    "    return data_train, labels_train, data_validation, labels_validation\n"
   ]
  },
  {
   "cell_type": "code",
   "execution_count": 11,
   "metadata": {},
   "outputs": [],
   "source": [
    "def my_kmeans(data_train, labels_train):\n",
    "    '''\n",
    "    My kmeans function to test result of kmeans.\n",
    "    '''\n",
    "    centers_km = np.zeros([10, data_train.shape[1]])\n",
    "    sum_cluster = np.zeros(10)\n",
    "    # kmeans\n",
    "    for i in range(data_train.shape[0]):\n",
    "        label = labels_train[i]\n",
    "        sum_ = sum_cluster[label]\n",
    "        centers_km[label] = centers_km[label]*(sum_/(sum_+1)) + data_train[i]*(1/(sum_+1))\n",
    "        sum_cluster[label] += 1\n",
    "    \n",
    "    # show mean image.\n",
    "    for i in range(10):\n",
    "        temp = np.array(centers_km[i])\n",
    "        temp = temp.reshape(28, 28)\n",
    "        plt.subplot(2, 5, 1+i).imshow(temp, cmap='gray')\n",
    "        plt.title(i)\n",
    "\n",
    "    plt.show()\n",
    "    \n",
    "    # km_predictor\n",
    "    class KmPredictor:\n",
    "        '''\n",
    "        This is temporary class to implement kmean predict.\n",
    "        '''\n",
    "        __centers = centers_km\n",
    "        def __eucldist(self, x, y):\n",
    "            '''\n",
    "            Calculate Eucl distance.\n",
    "            '''\n",
    "            return np.sqrt(np.sum((x-y)**2))\n",
    "        def predict(self, sample):\n",
    "            '''\n",
    "            Predict sample's label by clustering to different centers.\n",
    "            '''\n",
    "            label = 0\n",
    "            min_dist = self.__eucldist(self.__centers[0], sample)\n",
    "            for i in range(1, self.__centers.shape[0]):\n",
    "                dist = self.__eucldist(self.__centers[i], sample)\n",
    "                if dist < min_dist:\n",
    "                    min_dist = dist\n",
    "                    label = i\n",
    "                    \n",
    "            return label\n",
    "                \n",
    "    \n",
    "    return KmPredictor()"
   ]
  },
  {
   "cell_type": "code",
   "execution_count": 12,
   "metadata": {},
   "outputs": [],
   "source": [
    "def test_validation(predictor, data_validation, labels_validation):\n",
    "    '''\n",
    "    Test correct rate of predictor\n",
    "    '''\n",
    "    num_total = labels_validation.shape[0]\n",
    "    num_correct = 0\n",
    "    for i in range(num_total):\n",
    "        label_p = predictor.predict(data_validation[i])\n",
    "        if label_p == labels_validation[i]:\n",
    "            num_correct += 1\n",
    "            \n",
    "    return num_correct/num_total"
   ]
  },
  {
   "cell_type": "code",
   "execution_count": 13,
   "metadata": {},
   "outputs": [],
   "source": [
    "# def main():\n",
    "#     '''\n",
    "#     Test function.\n",
    "#     '''\n",
    "#     # Import and Initial data set.\n",
    "#     data_train, data_test = import_data(PATH_TRAIN, PATH_TEST)\n",
    "#     data_train, labels_train, data_validation, labels_validation = preprocess_raw_data(data_train)\n",
    "#\n",
    "#     # Implement kmean algorithm.\n",
    "#     km_predict = my_kmeans(data_train, labels_train)\n",
    "#     print(test_validation(km_predict, data_validation, labels_validation))\n",
    "#\n",
    "# main()"
   ]
  },
  {
   "cell_type": "code",
   "execution_count": 14,
   "metadata": {},
   "outputs": [],
   "source": [
    "data_train, data_test = import_data(PATH_TRAIN, PATH_TEST)\n",
    "data_train, labels_train, data_validation, labels_validation = preprocess_raw_data(data_train)"
   ]
  },
  {
   "cell_type": "code",
   "execution_count": 15,
   "metadata": {
    "scrolled": false
   },
   "outputs": [
    {
     "data": {
      "image/png": "[encoded data removed]",
      "text/plain": [
       "<matplotlib.figure.Figure at 0x10d57b0f0>"
      ]
     },
     "metadata": {},
     "output_type": "display_data"
    },
    {
     "name": "stdout",
     "output_type": "stream",
     "text": [
      "0.8005952380952381\n"
     ]
    }
   ],
   "source": [
    "km_predict = my_kmeans(data_train, labels_train)\n",
    "print(test_validation(km_predict, data_validation, labels_validation))"
   ]
  },
  {
   "cell_type": "code",
   "execution_count": 17,
   "metadata": {},
   "outputs": [
    {
     "data": {
      "image/png": "[encoded data removed]",
      "text/plain": [
       "<matplotlib.figure.Figure at 0x10d2e2208>"
      ]
     },
     "metadata": {},
     "output_type": "display_data"
    },
    {
     "data": {
      "text/plain": [
       "4"
      ]
     },
     "execution_count": 17,
     "metadata": {},
     "output_type": "execute_result"
    }
   ],
   "source": [
    "# Try km_predictor\n",
    "k = 9\n",
    "plt.imshow(data_validation[k].reshape(28, 28))\n",
    "plt.show()\n",
    "km_predict.predict(data_validation[k])"
   ]
  },
  {
   "cell_type": "code",
   "execution_count": null,
   "metadata": {},
   "outputs": [],
   "source": []
  }
 ],
 "metadata": {
  "kernelspec": {
   "display_name": "Python 3",
   "language": "python",
   "name": "python3"
  },
  "language_info": {
   "codemirror_mode": {
    "name": "ipython",
    "version": 3
   },
   "file_extension": ".py",
   "mimetype": "text/x-python",
   "name": "python",
   "nbconvert_exporter": "python",
   "pygments_lexer": "ipython3",
   "version": "3.6.3"
  }
 },
 "nbformat": 4,
 "nbformat_minor": 2
}
