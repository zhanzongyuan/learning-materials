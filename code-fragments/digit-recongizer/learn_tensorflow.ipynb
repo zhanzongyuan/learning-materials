{
 "cells": [
  {
   "cell_type": "code",
   "execution_count": 2,
   "metadata": {},
   "outputs": [],
   "source": [
    "# coding = utf-8"
   ]
  },
  {
   "cell_type": "code",
   "execution_count": 42,
   "metadata": {},
   "outputs": [
    {
     "name": "stdout",
     "output_type": "stream",
     "text": [
      "None\n",
      "0\n",
      "[0, 0, array(0, dtype=int32), 0]\n",
      "[1, 1, array(1, dtype=int32), 1]\n",
      "[3, 3, array(2, dtype=int32), 3]\n",
      "[6, 6, array(3, dtype=int32), 6]\n"
     ]
    }
   ],
   "source": [
    "import tensorflow as tf\n",
    "\n",
    "\n",
    "# 创建图\n",
    "counter = tf.Variable()\n",
    "\n",
    "additioner = tf.placeholder(\"float\", [2, 2])\n",
    "next_counter = tf.matmul(counter, additioner)\n",
    "update = tf.assign(counter, next_counter)\n",
    "\n",
    "# 使用变量tf.Variable()时，要有tf.global_variables_initializer()初始化节点\n",
    "init_op = tf.global_variables_initializer()\n",
    "\n",
    "with tf.Session() as sess:\n",
    "        \n"
   ]
  },
  {
   "cell_type": "code",
   "execution_count": null,
   "metadata": {},
   "outputs": [],
   "source": []
  }
 ],
 "metadata": {
  "kernelspec": {
   "display_name": "Python 3",
   "language": "python",
   "name": "python3"
  },
  "language_info": {
   "codemirror_mode": {
    "name": "ipython",
    "version": 3
   },
   "file_extension": ".py",
   "mimetype": "text/x-python",
   "name": "python",
   "nbconvert_exporter": "python",
   "pygments_lexer": "ipython3",
   "version": "3.6.3"
  }
 },
 "nbformat": 4,
 "nbformat_minor": 2
}
