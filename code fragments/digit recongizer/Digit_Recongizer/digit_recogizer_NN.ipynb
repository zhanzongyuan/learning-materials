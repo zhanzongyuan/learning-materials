{
 "cells": [
  {
   "cell_type": "markdown",
   "metadata": {},
   "source": [
    "# Digit recogizer\n",
    "> ref: https://www.kaggle.com/danielhkl/simple-3-layer-l2-neural-networks-97-9\n",
    "\n",
    "## 1. Import relative module"
   ]
  },
  {
   "cell_type": "code",
   "execution_count": 2,
   "metadata": {},
   "outputs": [
    {
     "name": "stderr",
     "output_type": "stream",
     "text": [
      "/usr/local/Cellar/python3/3.6.3/Frameworks/Python.framework/Versions/3.6/lib/python3.6/importlib/_bootstrap.py:219: RuntimeWarning: compiletime version 3.5 of module 'tensorflow.python.framework.fast_tensor_util' does not match runtime version 3.6\n",
      "  return f(*args, **kwds)\n"
     ]
    }
   ],
   "source": [
    "import numpy as np \n",
    "import pandas as pd\n",
    "import tensorflow as tf\n",
    "import matplotlib.pyplot as plt"
   ]
  },
  {
   "cell_type": "code",
   "execution_count": 4,
   "metadata": {},
   "outputs": [],
   "source": [
    "# define some constant\n",
    "TRAIN_DATA_PATH = \"./input/train.csv\"\n",
    "TEST_DATA_PATH = \"./input/test.csv\""
   ]
  },
  {
   "cell_type": "markdown",
   "metadata": {},
   "source": [
    "## 2. Define function"
   ]
  },
  {
   "cell_type": "code",
   "execution_count": 5,
   "metadata": {},
   "outputs": [],
   "source": [
    "# Convert label to one-hot matrix\n",
    "# one-hot: make label into 0 or 1 matrix\n",
    "# if axis = 0 : output shape = depth x indices.size \n",
    "# if axis = -1 : output shape = indices.size x depth\n",
    "# if axis = 1 : output shape = indices.n x depth x indices.m\n",
    "# \n",
    "def convert_to_one_hot(label_set, label_len):\n",
    "    one_hot_matrix = tf.one_hot(indices=label_set, depth=label_len, axis=0)\n",
    "    sess = tf.Session()\n",
    "    one_hot_label = sess.run(one_hot_matrix)\n",
    "    sess.close()\n",
    "    # one_hot_label.shape = (10, 1, 42000)\n",
    "    return np.squeeze(one_hot_label)\n",
    "\n",
    "\n",
    "# Deal with train set in \"train.csv\"\n",
    "def load_data(train_data_path, test_data_path):\n",
    "    # Get train data in file and convert it from Dataframe to Numpy.Array、\n",
    "    # reshape 由于直接[:, 0]获取的是一个一维（R,)的数组，不是一个（1，R)的矩阵\n",
    "    train_data = pd.read_csv(train_data_path).as_matrix() \n",
    "    train_labels = train_data[:, 0].reshape(1, train_data.shape[0])\n",
    "    train_labels = convert_to_one_hot(train_labels, int(np.max(train_labels)+1)) # ? np.squeeze()\n",
    "    train_images = np.divide(train_data[:, 1:], 255).T # 归一化到（0，1）\n",
    "    \n",
    "    test_images = np.divide(pd.read_csv(test_data_path).as_matrix(), 255).T\n",
    "    \n",
    "    # 将训练集分为两部分 0:4199, 4200:28000, 1:9\n",
    "    # 其中validation_的数据用于L2 regularization(权重衰减）防止过拟合\n",
    "    validation_train_images = train_images[:, 1:4200]\n",
    "    validation_train_labels = train_labels[:, 1:4200]\n",
    "    train_images = train_images[:, 4200:]\n",
    "    train_labels = train_labels[:, 4200:]\n",
    "    \n",
    "    return train_labels, train_images, validation_train_labels, validation_train_images, test_images\n",
    "\n",
    "    \n",
    "# ReLU\n",
    "# Forward propagation\n",
    "# 构建前驱网络图\n",
    "def forward_propagation(X, W1, b1, W2, b2, W3, b3):\n",
    "    Z1 = tf.add(tf.matmul(W1, X), b1)\n",
    "    A1 = tf.nn.relu(Z1)\n",
    "    Z2 = tf.add(tf.matmul(W2, A1), b2)\n",
    "    A2 = tf.nn.relu(Z2)\n",
    "    Z3 = tf.add(tf.matmul(W3, A2), b3)\n",
    "    # 为什么没有最后的tf.nn.relu? \n",
    "    return Z3\n",
    "\n",
    "\n",
    "\n",
    "# Compute L2 regularization cost\n",
    "# ？不是很懂这里\n",
    "# Z is arribute of train data.\n",
    "# Y is label of train data.\n",
    "\n",
    "def compute_cost(Z, Y, W1, W2, W3, batchsize):\n",
    "    logits = tf.transpose(Z)  # 转置. Shape = (batchsize, n_out).\n",
    "    labels = tf.transpose(Y)  # 9 labels to n_out. Shape = (batchsize, n_out).\n",
    "    unreg_cost = tf.reduce_mean(tf.nn.softmax_cross_entropy_with_logits(logits=logits, labels=labels))\n",
    "    L2_reg = tf.multiply(L2_lambda / batchsize, \\\n",
    "                         tf.add(tf.add(tf.nn.l2_loss(W1), tf.nn.l2_loss(W2)), tf.nn.l2_loss(W3)))\n",
    "    cost = tf.add(unreg_cost, L2_reg)\n",
    "    return cost\n",
    "\n",
    "\n",
    "\n",
    "# Initialize all parameters\n",
    "# n_in: Amount of input layers neurons.\n",
    "# n_1: Amount of first layers neurons.\n",
    "# n_2: Amount of second layers neurons.\n",
    "# n_out: Amount of output layers neurons.\n",
    "def initialize_parameters(n_in, n_1, n_2, n_out):\n",
    "    # Take (a, b) as index of a tree, a mean the a root, and the b mean the b child node of a root.\n",
    "    W1 = tf.get_variable('W1', (n_1, n_in), initializer=tf.contrib.layers.xavier_initializer())\n",
    "    b1 = tf.get_variable('b1', (n_1, 1), initializer=tf.zeros_initializer())\n",
    "    W2 = tf.get_variable('W2', (n_2, n_1), initializer=tf.contrib.layers.xavier_initializer())\n",
    "    b2 = tf.get_variable('b2', (n_2, 1), initializer=tf.zeros_initializer())\n",
    "    W3 = tf.get_variable('W3', (n_out, n_2), initializer=tf.contrib.layers.xavier_initializer())\n",
    "    b3 = tf.get_variable('b3', (n_out, 1), initializer=tf.zeros_initializer())\n",
    "    return W1, b1, W2, b2, W3, b3\n",
    "\n",
    "\n"
   ]
  },
  {
   "cell_type": "markdown",
   "metadata": {},
   "source": [
    "## 3. Initial graph"
   ]
  },
  {
   "cell_type": "code",
   "execution_count": 7,
   "metadata": {},
   "outputs": [],
   "source": [
    "# Load data.\n",
    "train_labels, train_images, \\\n",
    "validation_train_labels, validation_train_images, \\\n",
    "test_images  = load_data(TRAIN_DATA_PATH, TEST_DATA_PATH)\n",
    "\n",
    "# Parameter and properties setting\n",
    "learning_rate = 0.001\n",
    "L2_lambda = 0.05\n",
    "epoch = 60   # ?\n",
    "batchsize = 378    # ？\n",
    "n_in = train_images.shape[0]  # Amount of input layer neurons. (number of pixels in a image) \n",
    "n_1 = 300  # Amount of first hiden layers neurons.\n",
    "n_2 = 120  # Amount of second hiden layers neurons.\n",
    "n_out = train_labels.shape[0]  # Amount of output layer neurons. \n",
    "m = train_images.shape[1]  # Size of samples for training.\n",
    "m_test = test_images.shape[1]  # Size of samples in test. (m_test == m ?)\n",
    "total_batches = np.ceil(m / batchsize).astype(np.int32)  \n",
    "\n",
    "# Setting placeholders.\n",
    "X = tf.placeholder(tf.float32, (n_in, None), name='X')\n",
    "Y = tf.placeholder(tf.float32, (n_out, None), name='Y')\n",
    "\n",
    "# Weights and bias initialization.\n",
    "W1, b1, W2, b2, W3, b3 = initialize_parameters(n_in, n_1, n_2, n_out)\n",
    "\n",
    "# Feed forward. z3 is the output of the output layer.\n",
    "Z3 = forward_propagation(X, W1, b1, W2, b2, W3, b3)\n",
    "\n",
    "# Define the cost.\n",
    "cost = compute_cost(Z3, Y, W1, W2, W3, batchsize)\n",
    "\n",
    "# Define the optimization method. ?\n",
    "optimizer = tf.train.AdamOptimizer(learning_rate = learning_rate).minimize(cost)\n",
    "\n",
    "# Define the accuracy. ?\n",
    "correct_pred = tf.equal(tf.argmax(Z3), tf.argmax(Y))\n",
    "accuracy = tf.reduce_mean(tf.cast(correct_pred, tf.float32))\n",
    "\n",
    "\n",
    "\n",
    "#Define the initializer\n",
    "init = tf.global_variables_initializer()\n"
   ]
  },
  {
   "cell_type": "markdown",
   "metadata": {},
   "source": [
    "## 4. Run sess"
   ]
  },
  {
   "cell_type": "code",
   "execution_count": 8,
   "metadata": {
    "scrolled": true
   },
   "outputs": [
    {
     "name": "stdout",
     "output_type": "stream",
     "text": [
      "Epoch 1 Training Cost/Validation Cost/Training Accuracy/Validation Accuracy: 0.508782161474/0.260078/0.939074/0.935461\n",
      "Epoch 2 Training Cost/Validation Cost/Training Accuracy/Validation Accuracy: 0.215332303643/0.191819/0.961852/0.954513\n",
      "Epoch 3 Training Cost/Validation Cost/Training Accuracy/Validation Accuracy: 0.160176983178/0.159381/0.97336/0.962372\n",
      "Epoch 4 Training Cost/Validation Cost/Training Accuracy/Validation Accuracy: 0.129151649252/0.142154/0.980265/0.966182\n",
      "Epoch 5 Training Cost/Validation Cost/Training Accuracy/Validation Accuracy: 0.110397689044/0.137744/0.98254/0.969278\n",
      "Epoch 6 Training Cost/Validation Cost/Training Accuracy/Validation Accuracy: 0.0974728392065/0.136212/0.984339/0.96904\n",
      "Epoch 7 Training Cost/Validation Cost/Training Accuracy/Validation Accuracy: 0.0875170238316/0.131886/0.98664/0.972851\n",
      "Epoch 8 Training Cost/Validation Cost/Training Accuracy/Validation Accuracy: 0.0791038286313/0.128745/0.989735/0.973803\n",
      "Epoch 9 Training Cost/Validation Cost/Training Accuracy/Validation Accuracy: 0.072393031083/0.124756/0.991958/0.975232\n",
      "Epoch 10 Training Cost/Validation Cost/Training Accuracy/Validation Accuracy: 0.0675336457789/0.125947/0.992646/0.976185\n",
      "Epoch 11 Training Cost/Validation Cost/Training Accuracy/Validation Accuracy: 0.0638209025934/0.12604/0.992963/0.976185\n",
      "Epoch 12 Training Cost/Validation Cost/Training Accuracy/Validation Accuracy: 0.0622957061976/0.125561/0.993995/0.974756\n",
      "Epoch 13 Training Cost/Validation Cost/Training Accuracy/Validation Accuracy: 0.0596755699441/0.130465/0.993439/0.974518\n",
      "Epoch 14 Training Cost/Validation Cost/Training Accuracy/Validation Accuracy: 0.0560521682352/0.135278/0.992169/0.969278\n",
      "Epoch 15 Training Cost/Validation Cost/Training Accuracy/Validation Accuracy: 0.0543284861743/0.124298/0.995476/0.974041\n",
      "Epoch 16 Training Cost/Validation Cost/Training Accuracy/Validation Accuracy: 0.0529321159795/0.124313/0.995767/0.975947\n",
      "Epoch 17 Training Cost/Validation Cost/Training Accuracy/Validation Accuracy: 0.0500377360731/0.141406/0.992672/0.971422\n",
      "Epoch 18 Training Cost/Validation Cost/Training Accuracy/Validation Accuracy: 0.050731879212/0.127583/0.995794/0.974994\n",
      "Epoch 19 Training Cost/Validation Cost/Training Accuracy/Validation Accuracy: 0.0520807697996/0.129007/0.996243/0.974518\n",
      "Epoch 20 Training Cost/Validation Cost/Training Accuracy/Validation Accuracy: 0.0515429985523/0.127038/0.996878/0.974041\n",
      "Epoch 21 Training Cost/Validation Cost/Training Accuracy/Validation Accuracy: 0.0510011934862/0.132053/0.996376/0.973803\n",
      "Epoch 22 Training Cost/Validation Cost/Training Accuracy/Validation Accuracy: 0.0480167280883/0.122536/0.998201/0.976899\n",
      "Epoch 23 Training Cost/Validation Cost/Training Accuracy/Validation Accuracy: 0.0451093450561/0.119081/0.99828/0.978328\n",
      "Epoch 24 Training Cost/Validation Cost/Training Accuracy/Validation Accuracy: 0.0426183566824/0.117704/0.99881/0.977852\n",
      "Epoch 25 Training Cost/Validation Cost/Training Accuracy/Validation Accuracy: 0.0416901940852/0.108429/0.999444/0.980233\n",
      "Epoch 26 Training Cost/Validation Cost/Training Accuracy/Validation Accuracy: 0.0397037731111/0.112256/0.998889/0.979519\n",
      "Epoch 27 Training Cost/Validation Cost/Training Accuracy/Validation Accuracy: 0.0376967970654/0.115705/0.998095/0.977137\n",
      "Epoch 28 Training Cost/Validation Cost/Training Accuracy/Validation Accuracy: 0.0360813895613/0.109138/0.999471/0.978804\n",
      "Epoch 29 Training Cost/Validation Cost/Training Accuracy/Validation Accuracy: 0.0347239618748/0.104873/0.999921/0.979281\n",
      "Epoch 30 Training Cost/Validation Cost/Training Accuracy/Validation Accuracy: 0.0334765535034/0.102381/0.999921/0.979519\n",
      "Epoch 31 Training Cost/Validation Cost/Training Accuracy/Validation Accuracy: 0.0324526557326/0.101446/0.999894/0.980472\n",
      "Epoch 32 Training Cost/Validation Cost/Training Accuracy/Validation Accuracy: 0.0315697011538/0.0997155/0.999947/0.980472\n",
      "Epoch 33 Training Cost/Validation Cost/Training Accuracy/Validation Accuracy: 0.0307451893389/0.0984786/0.999947/0.980233\n",
      "Epoch 34 Training Cost/Validation Cost/Training Accuracy/Validation Accuracy: 0.0300101724453/0.0972592/0.999974/0.98071\n",
      "Epoch 35 Training Cost/Validation Cost/Training Accuracy/Validation Accuracy: 0.029355594907/0.0962727/0.999974/0.98071\n",
      "Epoch 36 Training Cost/Validation Cost/Training Accuracy/Validation Accuracy: 0.0287570831366/0.0955433/0.999974/0.980472\n",
      "Epoch 37 Training Cost/Validation Cost/Training Accuracy/Validation Accuracy: 0.028209583424/0.094749/0.999974/0.980472\n",
      "Epoch 38 Training Cost/Validation Cost/Training Accuracy/Validation Accuracy: 0.0276881697588/0.093557/0.999974/0.980948\n",
      "Epoch 39 Training Cost/Validation Cost/Training Accuracy/Validation Accuracy: 0.0272267270274/0.0932319/0.999974/0.981186\n",
      "Epoch 40 Training Cost/Validation Cost/Training Accuracy/Validation Accuracy: 0.0268682700582/0.0923293/0.999974/0.979757\n",
      "Epoch 41 Training Cost/Validation Cost/Training Accuracy/Validation Accuracy: 0.0265842571668/0.092328/0.999947/0.980948\n",
      "Epoch 42 Training Cost/Validation Cost/Training Accuracy/Validation Accuracy: 0.0347304661386/0.134091/0.988624/0.967373\n",
      "Epoch 43 Training Cost/Validation Cost/Training Accuracy/Validation Accuracy: 0.069520868212/0.118878/0.99455/0.974994\n",
      "Epoch 44 Training Cost/Validation Cost/Training Accuracy/Validation Accuracy: 0.0490928475559/0.107714/0.998122/0.978566\n",
      "Epoch 45 Training Cost/Validation Cost/Training Accuracy/Validation Accuracy: 0.0386237672716/0.116018/0.998492/0.97809\n",
      "Epoch 46 Training Cost/Validation Cost/Training Accuracy/Validation Accuracy: 0.0342624597065/0.104759/0.999577/0.980233\n",
      "Epoch 47 Training Cost/Validation Cost/Training Accuracy/Validation Accuracy: 0.0318176438659/0.100854/0.999788/0.9819\n",
      "Epoch 48 Training Cost/Validation Cost/Training Accuracy/Validation Accuracy: 0.0298753507435/0.103093/0.99963/0.980233\n",
      "Epoch 49 Training Cost/Validation Cost/Training Accuracy/Validation Accuracy: 0.0287487528846/0.0956755/0.999683/0.981186\n",
      "Epoch 50 Training Cost/Validation Cost/Training Accuracy/Validation Accuracy: 0.027873185426/0.0936836/0.999974/0.982615\n",
      "Epoch 51 Training Cost/Validation Cost/Training Accuracy/Validation Accuracy: 0.0266917167231/0.0907272/0.999974/0.982377\n",
      "Epoch 52 Training Cost/Validation Cost/Training Accuracy/Validation Accuracy: 0.0256377591379/0.0898867/0.999974/0.982139\n",
      "Epoch 53 Training Cost/Validation Cost/Training Accuracy/Validation Accuracy: 0.0248815154657/0.0890751/0.999974/0.981424\n",
      "Epoch 54 Training Cost/Validation Cost/Training Accuracy/Validation Accuracy: 0.0243176512979/0.0884935/0.999974/0.981186\n",
      "Epoch 55 Training Cost/Validation Cost/Training Accuracy/Validation Accuracy: 0.0238881353289/0.0878635/0.999974/0.980233\n",
      "Epoch 56 Training Cost/Validation Cost/Training Accuracy/Validation Accuracy: 0.023535084296/0.087486/0.999974/0.979281\n",
      "Epoch 57 Training Cost/Validation Cost/Training Accuracy/Validation Accuracy: 0.0232544722781/0.0873225/1.0/0.980233\n",
      "Epoch 58 Training Cost/Validation Cost/Training Accuracy/Validation Accuracy: 0.0230071820877/0.0868715/1.0/0.979757\n",
      "Epoch 59 Training Cost/Validation Cost/Training Accuracy/Validation Accuracy: 0.0227709477395/0.0866223/1.0/0.979757\n",
      "Epoch 60 Training Cost/Validation Cost/Training Accuracy/Validation Accuracy: 0.0225765737519/0.0865086/1.0/0.979043\n"
     ]
    }
   ],
   "source": [
    "\n",
    "#Model\n",
    "costs = []\n",
    "costs_val = []\n",
    "accuracies = []\n",
    "accuracies_val = []\n",
    "sess = tf.Session()\n",
    "sess.run(init)\n",
    "for i in range(epoch):\n",
    "    epoch_cost = 0.\n",
    "    for j in range(total_batches):\n",
    "        index_front = j * batchsize\n",
    "        index_end = (j + 1) * batchsize if (j + 1) * batchsize < m else m\n",
    "        X_batch = train_images[:, index_front:index_end]\n",
    "        Y_batch = train_labels[:, index_front:index_end]\n",
    "        _, batch_cost = sess.run([optimizer, cost], feed_dict={X:X_batch, Y:Y_batch})\n",
    "        epoch_cost += batch_cost / total_batches\n",
    "    epoch_cost_val = sess.run(cost, feed_dict={X:validation_train_images, Y:validation_train_labels})\n",
    "    epoch_acc = sess.run(accuracy, feed_dict={X:train_images, Y:train_labels})\n",
    "    epoch_acc_val = sess.run(accuracy, feed_dict={X:validation_train_images, Y:validation_train_labels})\n",
    "    print('Epoch ' + str(i + 1) + \\\n",
    "          ' Training Cost/Validation Cost/Training Accuracy/Validation Accuracy: '\\\n",
    "          + str(epoch_cost) + '/' + str(epoch_cost_val) + '/' + str(epoch_acc) + '/' + str(epoch_acc_val))\n",
    "    costs.append(epoch_cost)\n",
    "    costs_val.append(epoch_cost_val)\n",
    "    accuracies.append(epoch_acc)\n",
    "    accuracies_val.append(epoch_acc_val)"
   ]
  },
  {
   "cell_type": "markdown",
   "metadata": {},
   "source": [
    "## 5. Figure"
   ]
  },
  {
   "cell_type": "code",
   "execution_count": 9,
   "metadata": {},
   "outputs": [
    {
     "data": {
      "image/png": "[encoded data removed]",
      "text/plain": [
       "<matplotlib.figure.Figure at 0x11a8682e8>"
      ]
     },
     "metadata": {},
     "output_type": "display_data"
    }
   ],
   "source": [
    "#Ploting the cost\n",
    "plt.plot(np.squeeze(costs), label='Training Cost')\n",
    "plt.plot(np.squeeze(costs_val), label='Validation Cost')\n",
    "plt.ylabel('Cost')\n",
    "plt.xlabel('Epoch')\n",
    "plt.title('Cost - Epoch')\n",
    "plt.legend(loc='best')\n",
    "plt.show()"
   ]
  },
  {
   "cell_type": "code",
   "execution_count": 10,
   "metadata": {},
   "outputs": [
    {
     "data": {
      "image/png": "[encoded data removed]",
      "text/plain": [
       "<matplotlib.figure.Figure at 0x11a868550>"
      ]
     },
     "metadata": {},
     "output_type": "display_data"
    }
   ],
   "source": [
    "#Ploting the accuracy\n",
    "plt.plot(np.squeeze(accuracies), label='Training Accuracy')\n",
    "plt.plot(np.squeeze(accuracies_val), label='Validation Accuracy')\n",
    "plt.ylabel('Accuracy')\n",
    "plt.xlabel('Epoch')\n",
    "plt.title('Cost - Accuracy')\n",
    "plt.legend(loc='best')\n",
    "plt.show()"
   ]
  },
  {
   "cell_type": "markdown",
   "metadata": {},
   "source": [
    "## 6. Run test and save output file"
   ]
  },
  {
   "cell_type": "code",
   "execution_count": 11,
   "metadata": {},
   "outputs": [
    {
     "ename": "FailedPreconditionError",
     "evalue": "Attempting to use uninitialized value b3\n\t [[Node: b3/read = Identity[T=DT_FLOAT, _class=[\"loc:@b3\"], _device=\"/job:localhost/replica:0/task:0/device:CPU:0\"](b3)]]\n\nCaused by op 'b3/read', defined at:\n  File \"/usr/local/Cellar/python3/3.6.3/Frameworks/Python.framework/Versions/3.6/lib/python3.6/runpy.py\", line 193, in _run_module_as_main\n    \"__main__\", mod_spec)\n  File \"/usr/local/Cellar/python3/3.6.3/Frameworks/Python.framework/Versions/3.6/lib/python3.6/runpy.py\", line 85, in _run_code\n    exec(code, run_globals)\n  File \"/usr/local/lib/python3.6/site-packages/ipykernel_launcher.py\", line 16, in <module>\n    app.launch_new_instance()\n  File \"/usr/local/lib/python3.6/site-packages/traitlets/config/application.py\", line 658, in launch_instance\n    app.start()\n  File \"/usr/local/lib/python3.6/site-packages/ipykernel/kernelapp.py\", line 477, in start\n    ioloop.IOLoop.instance().start()\n  File \"/usr/local/lib/python3.6/site-packages/zmq/eventloop/ioloop.py\", line 177, in start\n    super(ZMQIOLoop, self).start()\n  File \"/usr/local/lib/python3.6/site-packages/tornado/ioloop.py\", line 888, in start\n    handler_func(fd_obj, events)\n  File \"/usr/local/lib/python3.6/site-packages/tornado/stack_context.py\", line 277, in null_wrapper\n    return fn(*args, **kwargs)\n  File \"/usr/local/lib/python3.6/site-packages/zmq/eventloop/zmqstream.py\", line 440, in _handle_events\n    self._handle_recv()\n  File \"/usr/local/lib/python3.6/site-packages/zmq/eventloop/zmqstream.py\", line 472, in _handle_recv\n    self._run_callback(callback, msg)\n  File \"/usr/local/lib/python3.6/site-packages/zmq/eventloop/zmqstream.py\", line 414, in _run_callback\n    callback(*args, **kwargs)\n  File \"/usr/local/lib/python3.6/site-packages/tornado/stack_context.py\", line 277, in null_wrapper\n    return fn(*args, **kwargs)\n  File \"/usr/local/lib/python3.6/site-packages/ipykernel/kernelbase.py\", line 283, in dispatcher\n    return self.dispatch_shell(stream, msg)\n  File \"/usr/local/lib/python3.6/site-packages/ipykernel/kernelbase.py\", line 235, in dispatch_shell\n    handler(stream, idents, msg)\n  File \"/usr/local/lib/python3.6/site-packages/ipykernel/kernelbase.py\", line 399, in execute_request\n    user_expressions, allow_stdin)\n  File \"/usr/local/lib/python3.6/site-packages/ipykernel/ipkernel.py\", line 196, in do_execute\n    res = shell.run_cell(code, store_history=store_history, silent=silent)\n  File \"/usr/local/lib/python3.6/site-packages/ipykernel/zmqshell.py\", line 533, in run_cell\n    return super(ZMQInteractiveShell, self).run_cell(*args, **kwargs)\n  File \"/usr/local/lib/python3.6/site-packages/IPython/core/interactiveshell.py\", line 2728, in run_cell\n    interactivity=interactivity, compiler=compiler, result=result)\n  File \"/usr/local/lib/python3.6/site-packages/IPython/core/interactiveshell.py\", line 2850, in run_ast_nodes\n    if self.run_code(code, result):\n  File \"/usr/local/lib/python3.6/site-packages/IPython/core/interactiveshell.py\", line 2910, in run_code\n    exec(code_obj, self.user_global_ns, self.user_ns)\n  File \"<ipython-input-7-6ffc3ee6d542>\", line 22, in <module>\n    W1, b1, W2, b2, W3, b3 = initialize_parameters(n_in, n_1, n_2, n_out)\n  File \"<ipython-input-5-afc9c79aa29e>\", line 76, in initialize_parameters\n    b3 = tf.get_variable('b3', (n_out, 1), initializer=tf.zeros_initializer())\n  File \"/usr/local/lib/python3.6/site-packages/tensorflow/python/ops/variable_scope.py\", line 1203, in get_variable\n    constraint=constraint)\n  File \"/usr/local/lib/python3.6/site-packages/tensorflow/python/ops/variable_scope.py\", line 1092, in get_variable\n    constraint=constraint)\n  File \"/usr/local/lib/python3.6/site-packages/tensorflow/python/ops/variable_scope.py\", line 425, in get_variable\n    constraint=constraint)\n  File \"/usr/local/lib/python3.6/site-packages/tensorflow/python/ops/variable_scope.py\", line 394, in _true_getter\n    use_resource=use_resource, constraint=constraint)\n  File \"/usr/local/lib/python3.6/site-packages/tensorflow/python/ops/variable_scope.py\", line 805, in _get_single_variable\n    constraint=constraint)\n  File \"/usr/local/lib/python3.6/site-packages/tensorflow/python/ops/variables.py\", line 213, in __init__\n    constraint=constraint)\n  File \"/usr/local/lib/python3.6/site-packages/tensorflow/python/ops/variables.py\", line 356, in _init_from_args\n    self._snapshot = array_ops.identity(self._variable, name=\"read\")\n  File \"/usr/local/lib/python3.6/site-packages/tensorflow/python/ops/array_ops.py\", line 125, in identity\n    return gen_array_ops.identity(input, name=name)\n  File \"/usr/local/lib/python3.6/site-packages/tensorflow/python/ops/gen_array_ops.py\", line 2071, in identity\n    \"Identity\", input=input, name=name)\n  File \"/usr/local/lib/python3.6/site-packages/tensorflow/python/framework/op_def_library.py\", line 787, in _apply_op_helper\n    op_def=op_def)\n  File \"/usr/local/lib/python3.6/site-packages/tensorflow/python/framework/ops.py\", line 2956, in create_op\n    op_def=op_def)\n  File \"/usr/local/lib/python3.6/site-packages/tensorflow/python/framework/ops.py\", line 1470, in __init__\n    self._traceback = self._graph._extract_stack()  # pylint: disable=protected-access\n\nFailedPreconditionError (see above for traceback): Attempting to use uninitialized value b3\n\t [[Node: b3/read = Identity[T=DT_FLOAT, _class=[\"loc:@b3\"], _device=\"/job:localhost/replica:0/task:0/device:CPU:0\"](b3)]]\n",
     "output_type": "error",
     "traceback": [
      "\u001b[0;31m---------------------------------------------------------------------------\u001b[0m",
      "\u001b[0;31mFailedPreconditionError\u001b[0m                   Traceback (most recent call last)",
      "\u001b[0;32m/usr/local/lib/python3.6/site-packages/tensorflow/python/client/session.py\u001b[0m in \u001b[0;36m_do_call\u001b[0;34m(self, fn, *args)\u001b[0m\n\u001b[1;32m   1322\u001b[0m     \u001b[0;32mtry\u001b[0m\u001b[0;34m:\u001b[0m\u001b[0;34m\u001b[0m\u001b[0m\n\u001b[0;32m-> 1323\u001b[0;31m       \u001b[0;32mreturn\u001b[0m \u001b[0mfn\u001b[0m\u001b[0;34m(\u001b[0m\u001b[0;34m*\u001b[0m\u001b[0margs\u001b[0m\u001b[0;34m)\u001b[0m\u001b[0;34m\u001b[0m\u001b[0m\n\u001b[0m\u001b[1;32m   1324\u001b[0m     \u001b[0;32mexcept\u001b[0m \u001b[0merrors\u001b[0m\u001b[0;34m.\u001b[0m\u001b[0mOpError\u001b[0m \u001b[0;32mas\u001b[0m \u001b[0me\u001b[0m\u001b[0;34m:\u001b[0m\u001b[0;34m\u001b[0m\u001b[0m\n",
      "\u001b[0;32m/usr/local/lib/python3.6/site-packages/tensorflow/python/client/session.py\u001b[0m in \u001b[0;36m_run_fn\u001b[0;34m(session, feed_dict, fetch_list, target_list, options, run_metadata)\u001b[0m\n\u001b[1;32m   1301\u001b[0m                                    \u001b[0mfeed_dict\u001b[0m\u001b[0;34m,\u001b[0m \u001b[0mfetch_list\u001b[0m\u001b[0;34m,\u001b[0m \u001b[0mtarget_list\u001b[0m\u001b[0;34m,\u001b[0m\u001b[0;34m\u001b[0m\u001b[0m\n\u001b[0;32m-> 1302\u001b[0;31m                                    status, run_metadata)\n\u001b[0m\u001b[1;32m   1303\u001b[0m \u001b[0;34m\u001b[0m\u001b[0m\n",
      "\u001b[0;32m/usr/local/lib/python3.6/site-packages/tensorflow/python/framework/errors_impl.py\u001b[0m in \u001b[0;36m__exit__\u001b[0;34m(self, type_arg, value_arg, traceback_arg)\u001b[0m\n\u001b[1;32m    472\u001b[0m             \u001b[0mcompat\u001b[0m\u001b[0;34m.\u001b[0m\u001b[0mas_text\u001b[0m\u001b[0;34m(\u001b[0m\u001b[0mc_api\u001b[0m\u001b[0;34m.\u001b[0m\u001b[0mTF_Message\u001b[0m\u001b[0;34m(\u001b[0m\u001b[0mself\u001b[0m\u001b[0;34m.\u001b[0m\u001b[0mstatus\u001b[0m\u001b[0;34m.\u001b[0m\u001b[0mstatus\u001b[0m\u001b[0;34m)\u001b[0m\u001b[0;34m)\u001b[0m\u001b[0;34m,\u001b[0m\u001b[0;34m\u001b[0m\u001b[0m\n\u001b[0;32m--> 473\u001b[0;31m             c_api.TF_GetCode(self.status.status))\n\u001b[0m\u001b[1;32m    474\u001b[0m     \u001b[0;31m# Delete the underlying status object from memory otherwise it stays alive\u001b[0m\u001b[0;34m\u001b[0m\u001b[0;34m\u001b[0m\u001b[0m\n",
      "\u001b[0;31mFailedPreconditionError\u001b[0m: Attempting to use uninitialized value b3\n\t [[Node: b3/read = Identity[T=DT_FLOAT, _class=[\"loc:@b3\"], _device=\"/job:localhost/replica:0/task:0/device:CPU:0\"](b3)]]",
      "\nDuring handling of the above exception, another exception occurred:\n",
      "\u001b[0;31mFailedPreconditionError\u001b[0m                   Traceback (most recent call last)",
      "\u001b[0;32m<ipython-input-11-1a4a0431aace>\u001b[0m in \u001b[0;36m<module>\u001b[0;34m()\u001b[0m\n\u001b[1;32m      3\u001b[0m \u001b[0mZ3_test\u001b[0m \u001b[0;34m=\u001b[0m \u001b[0mforward_propagation\u001b[0m\u001b[0;34m(\u001b[0m\u001b[0mX\u001b[0m\u001b[0;34m,\u001b[0m \u001b[0mW1\u001b[0m\u001b[0;34m,\u001b[0m \u001b[0mb1\u001b[0m\u001b[0;34m,\u001b[0m \u001b[0mW2\u001b[0m\u001b[0;34m,\u001b[0m \u001b[0mb2\u001b[0m\u001b[0;34m,\u001b[0m \u001b[0mW3\u001b[0m\u001b[0;34m,\u001b[0m \u001b[0mb3\u001b[0m\u001b[0;34m)\u001b[0m\u001b[0;34m\u001b[0m\u001b[0m\n\u001b[1;32m      4\u001b[0m \u001b[0mA3_test\u001b[0m \u001b[0;34m=\u001b[0m \u001b[0mtf\u001b[0m\u001b[0;34m.\u001b[0m\u001b[0mnn\u001b[0m\u001b[0;34m.\u001b[0m\u001b[0msoftmax\u001b[0m\u001b[0;34m(\u001b[0m\u001b[0mZ3_test\u001b[0m\u001b[0;34m,\u001b[0m \u001b[0mdim\u001b[0m\u001b[0;34m=\u001b[0m\u001b[0;36m0\u001b[0m\u001b[0;34m)\u001b[0m\u001b[0;34m\u001b[0m\u001b[0m\n\u001b[0;32m----> 5\u001b[0;31m \u001b[0mpredict\u001b[0m \u001b[0;34m=\u001b[0m \u001b[0mnp\u001b[0m\u001b[0;34m.\u001b[0m\u001b[0margmax\u001b[0m\u001b[0;34m(\u001b[0m\u001b[0msess\u001b[0m\u001b[0;34m.\u001b[0m\u001b[0mrun\u001b[0m\u001b[0;34m(\u001b[0m\u001b[0mA3_test\u001b[0m\u001b[0;34m,\u001b[0m \u001b[0mfeed_dict\u001b[0m\u001b[0;34m=\u001b[0m\u001b[0;34m{\u001b[0m\u001b[0mX\u001b[0m\u001b[0;34m:\u001b[0m\u001b[0mtest_images\u001b[0m\u001b[0;34m}\u001b[0m\u001b[0;34m)\u001b[0m\u001b[0;34m,\u001b[0m \u001b[0maxis\u001b[0m\u001b[0;34m=\u001b[0m\u001b[0;36m0\u001b[0m\u001b[0;34m)\u001b[0m\u001b[0;34m\u001b[0m\u001b[0m\n\u001b[0m\u001b[1;32m      6\u001b[0m \u001b[0mpredict\u001b[0m \u001b[0;34m=\u001b[0m \u001b[0mpredict\u001b[0m\u001b[0;34m.\u001b[0m\u001b[0mreshape\u001b[0m\u001b[0;34m(\u001b[0m\u001b[0mpredict\u001b[0m\u001b[0;34m.\u001b[0m\u001b[0mshape\u001b[0m\u001b[0;34m[\u001b[0m\u001b[0;36m0\u001b[0m\u001b[0;34m]\u001b[0m\u001b[0;34m,\u001b[0m \u001b[0;36m1\u001b[0m\u001b[0;34m)\u001b[0m\u001b[0;34m\u001b[0m\u001b[0m\n\u001b[1;32m      7\u001b[0m \u001b[0mimage_id\u001b[0m \u001b[0;34m=\u001b[0m \u001b[0mnp\u001b[0m\u001b[0;34m.\u001b[0m\u001b[0marange\u001b[0m\u001b[0;34m(\u001b[0m\u001b[0;36m1\u001b[0m\u001b[0;34m,\u001b[0m \u001b[0mlen\u001b[0m\u001b[0;34m(\u001b[0m\u001b[0mpredict\u001b[0m\u001b[0;34m)\u001b[0m \u001b[0;34m+\u001b[0m \u001b[0;36m1\u001b[0m\u001b[0;34m,\u001b[0m \u001b[0;36m1\u001b[0m\u001b[0;34m)\u001b[0m\u001b[0;34m\u001b[0m\u001b[0m\n",
      "\u001b[0;32m/usr/local/lib/python3.6/site-packages/tensorflow/python/client/session.py\u001b[0m in \u001b[0;36mrun\u001b[0;34m(self, fetches, feed_dict, options, run_metadata)\u001b[0m\n\u001b[1;32m    887\u001b[0m     \u001b[0;32mtry\u001b[0m\u001b[0;34m:\u001b[0m\u001b[0;34m\u001b[0m\u001b[0m\n\u001b[1;32m    888\u001b[0m       result = self._run(None, fetches, feed_dict, options_ptr,\n\u001b[0;32m--> 889\u001b[0;31m                          run_metadata_ptr)\n\u001b[0m\u001b[1;32m    890\u001b[0m       \u001b[0;32mif\u001b[0m \u001b[0mrun_metadata\u001b[0m\u001b[0;34m:\u001b[0m\u001b[0;34m\u001b[0m\u001b[0m\n\u001b[1;32m    891\u001b[0m         \u001b[0mproto_data\u001b[0m \u001b[0;34m=\u001b[0m \u001b[0mtf_session\u001b[0m\u001b[0;34m.\u001b[0m\u001b[0mTF_GetBuffer\u001b[0m\u001b[0;34m(\u001b[0m\u001b[0mrun_metadata_ptr\u001b[0m\u001b[0;34m)\u001b[0m\u001b[0;34m\u001b[0m\u001b[0m\n",
      "\u001b[0;32m/usr/local/lib/python3.6/site-packages/tensorflow/python/client/session.py\u001b[0m in \u001b[0;36m_run\u001b[0;34m(self, handle, fetches, feed_dict, options, run_metadata)\u001b[0m\n\u001b[1;32m   1118\u001b[0m     \u001b[0;32mif\u001b[0m \u001b[0mfinal_fetches\u001b[0m \u001b[0;32mor\u001b[0m \u001b[0mfinal_targets\u001b[0m \u001b[0;32mor\u001b[0m \u001b[0;34m(\u001b[0m\u001b[0mhandle\u001b[0m \u001b[0;32mand\u001b[0m \u001b[0mfeed_dict_tensor\u001b[0m\u001b[0;34m)\u001b[0m\u001b[0;34m:\u001b[0m\u001b[0;34m\u001b[0m\u001b[0m\n\u001b[1;32m   1119\u001b[0m       results = self._do_run(handle, final_targets, final_fetches,\n\u001b[0;32m-> 1120\u001b[0;31m                              feed_dict_tensor, options, run_metadata)\n\u001b[0m\u001b[1;32m   1121\u001b[0m     \u001b[0;32melse\u001b[0m\u001b[0;34m:\u001b[0m\u001b[0;34m\u001b[0m\u001b[0m\n\u001b[1;32m   1122\u001b[0m       \u001b[0mresults\u001b[0m \u001b[0;34m=\u001b[0m \u001b[0;34m[\u001b[0m\u001b[0;34m]\u001b[0m\u001b[0;34m\u001b[0m\u001b[0m\n",
      "\u001b[0;32m/usr/local/lib/python3.6/site-packages/tensorflow/python/client/session.py\u001b[0m in \u001b[0;36m_do_run\u001b[0;34m(self, handle, target_list, fetch_list, feed_dict, options, run_metadata)\u001b[0m\n\u001b[1;32m   1315\u001b[0m     \u001b[0;32mif\u001b[0m \u001b[0mhandle\u001b[0m \u001b[0;32mis\u001b[0m \u001b[0;32mNone\u001b[0m\u001b[0;34m:\u001b[0m\u001b[0;34m\u001b[0m\u001b[0m\n\u001b[1;32m   1316\u001b[0m       return self._do_call(_run_fn, self._session, feeds, fetches, targets,\n\u001b[0;32m-> 1317\u001b[0;31m                            options, run_metadata)\n\u001b[0m\u001b[1;32m   1318\u001b[0m     \u001b[0;32melse\u001b[0m\u001b[0;34m:\u001b[0m\u001b[0;34m\u001b[0m\u001b[0m\n\u001b[1;32m   1319\u001b[0m       \u001b[0;32mreturn\u001b[0m \u001b[0mself\u001b[0m\u001b[0;34m.\u001b[0m\u001b[0m_do_call\u001b[0m\u001b[0;34m(\u001b[0m\u001b[0m_prun_fn\u001b[0m\u001b[0;34m,\u001b[0m \u001b[0mself\u001b[0m\u001b[0;34m.\u001b[0m\u001b[0m_session\u001b[0m\u001b[0;34m,\u001b[0m \u001b[0mhandle\u001b[0m\u001b[0;34m,\u001b[0m \u001b[0mfeeds\u001b[0m\u001b[0;34m,\u001b[0m \u001b[0mfetches\u001b[0m\u001b[0;34m)\u001b[0m\u001b[0;34m\u001b[0m\u001b[0m\n",
      "\u001b[0;32m/usr/local/lib/python3.6/site-packages/tensorflow/python/client/session.py\u001b[0m in \u001b[0;36m_do_call\u001b[0;34m(self, fn, *args)\u001b[0m\n\u001b[1;32m   1334\u001b[0m         \u001b[0;32mexcept\u001b[0m \u001b[0mKeyError\u001b[0m\u001b[0;34m:\u001b[0m\u001b[0;34m\u001b[0m\u001b[0m\n\u001b[1;32m   1335\u001b[0m           \u001b[0;32mpass\u001b[0m\u001b[0;34m\u001b[0m\u001b[0m\n\u001b[0;32m-> 1336\u001b[0;31m       \u001b[0;32mraise\u001b[0m \u001b[0mtype\u001b[0m\u001b[0;34m(\u001b[0m\u001b[0me\u001b[0m\u001b[0;34m)\u001b[0m\u001b[0;34m(\u001b[0m\u001b[0mnode_def\u001b[0m\u001b[0;34m,\u001b[0m \u001b[0mop\u001b[0m\u001b[0;34m,\u001b[0m \u001b[0mmessage\u001b[0m\u001b[0;34m)\u001b[0m\u001b[0;34m\u001b[0m\u001b[0m\n\u001b[0m\u001b[1;32m   1337\u001b[0m \u001b[0;34m\u001b[0m\u001b[0m\n\u001b[1;32m   1338\u001b[0m   \u001b[0;32mdef\u001b[0m \u001b[0m_extend_graph\u001b[0m\u001b[0;34m(\u001b[0m\u001b[0mself\u001b[0m\u001b[0;34m)\u001b[0m\u001b[0;34m:\u001b[0m\u001b[0;34m\u001b[0m\u001b[0m\n",
      "\u001b[0;31mFailedPreconditionError\u001b[0m: Attempting to use uninitialized value b3\n\t [[Node: b3/read = Identity[T=DT_FLOAT, _class=[\"loc:@b3\"], _device=\"/job:localhost/replica:0/task:0/device:CPU:0\"](b3)]]\n\nCaused by op 'b3/read', defined at:\n  File \"/usr/local/Cellar/python3/3.6.3/Frameworks/Python.framework/Versions/3.6/lib/python3.6/runpy.py\", line 193, in _run_module_as_main\n    \"__main__\", mod_spec)\n  File \"/usr/local/Cellar/python3/3.6.3/Frameworks/Python.framework/Versions/3.6/lib/python3.6/runpy.py\", line 85, in _run_code\n    exec(code, run_globals)\n  File \"/usr/local/lib/python3.6/site-packages/ipykernel_launcher.py\", line 16, in <module>\n    app.launch_new_instance()\n  File \"/usr/local/lib/python3.6/site-packages/traitlets/config/application.py\", line 658, in launch_instance\n    app.start()\n  File \"/usr/local/lib/python3.6/site-packages/ipykernel/kernelapp.py\", line 477, in start\n    ioloop.IOLoop.instance().start()\n  File \"/usr/local/lib/python3.6/site-packages/zmq/eventloop/ioloop.py\", line 177, in start\n    super(ZMQIOLoop, self).start()\n  File \"/usr/local/lib/python3.6/site-packages/tornado/ioloop.py\", line 888, in start\n    handler_func(fd_obj, events)\n  File \"/usr/local/lib/python3.6/site-packages/tornado/stack_context.py\", line 277, in null_wrapper\n    return fn(*args, **kwargs)\n  File \"/usr/local/lib/python3.6/site-packages/zmq/eventloop/zmqstream.py\", line 440, in _handle_events\n    self._handle_recv()\n  File \"/usr/local/lib/python3.6/site-packages/zmq/eventloop/zmqstream.py\", line 472, in _handle_recv\n    self._run_callback(callback, msg)\n  File \"/usr/local/lib/python3.6/site-packages/zmq/eventloop/zmqstream.py\", line 414, in _run_callback\n    callback(*args, **kwargs)\n  File \"/usr/local/lib/python3.6/site-packages/tornado/stack_context.py\", line 277, in null_wrapper\n    return fn(*args, **kwargs)\n  File \"/usr/local/lib/python3.6/site-packages/ipykernel/kernelbase.py\", line 283, in dispatcher\n    return self.dispatch_shell(stream, msg)\n  File \"/usr/local/lib/python3.6/site-packages/ipykernel/kernelbase.py\", line 235, in dispatch_shell\n    handler(stream, idents, msg)\n  File \"/usr/local/lib/python3.6/site-packages/ipykernel/kernelbase.py\", line 399, in execute_request\n    user_expressions, allow_stdin)\n  File \"/usr/local/lib/python3.6/site-packages/ipykernel/ipkernel.py\", line 196, in do_execute\n    res = shell.run_cell(code, store_history=store_history, silent=silent)\n  File \"/usr/local/lib/python3.6/site-packages/ipykernel/zmqshell.py\", line 533, in run_cell\n    return super(ZMQInteractiveShell, self).run_cell(*args, **kwargs)\n  File \"/usr/local/lib/python3.6/site-packages/IPython/core/interactiveshell.py\", line 2728, in run_cell\n    interactivity=interactivity, compiler=compiler, result=result)\n  File \"/usr/local/lib/python3.6/site-packages/IPython/core/interactiveshell.py\", line 2850, in run_ast_nodes\n    if self.run_code(code, result):\n  File \"/usr/local/lib/python3.6/site-packages/IPython/core/interactiveshell.py\", line 2910, in run_code\n    exec(code_obj, self.user_global_ns, self.user_ns)\n  File \"<ipython-input-7-6ffc3ee6d542>\", line 22, in <module>\n    W1, b1, W2, b2, W3, b3 = initialize_parameters(n_in, n_1, n_2, n_out)\n  File \"<ipython-input-5-afc9c79aa29e>\", line 76, in initialize_parameters\n    b3 = tf.get_variable('b3', (n_out, 1), initializer=tf.zeros_initializer())\n  File \"/usr/local/lib/python3.6/site-packages/tensorflow/python/ops/variable_scope.py\", line 1203, in get_variable\n    constraint=constraint)\n  File \"/usr/local/lib/python3.6/site-packages/tensorflow/python/ops/variable_scope.py\", line 1092, in get_variable\n    constraint=constraint)\n  File \"/usr/local/lib/python3.6/site-packages/tensorflow/python/ops/variable_scope.py\", line 425, in get_variable\n    constraint=constraint)\n  File \"/usr/local/lib/python3.6/site-packages/tensorflow/python/ops/variable_scope.py\", line 394, in _true_getter\n    use_resource=use_resource, constraint=constraint)\n  File \"/usr/local/lib/python3.6/site-packages/tensorflow/python/ops/variable_scope.py\", line 805, in _get_single_variable\n    constraint=constraint)\n  File \"/usr/local/lib/python3.6/site-packages/tensorflow/python/ops/variables.py\", line 213, in __init__\n    constraint=constraint)\n  File \"/usr/local/lib/python3.6/site-packages/tensorflow/python/ops/variables.py\", line 356, in _init_from_args\n    self._snapshot = array_ops.identity(self._variable, name=\"read\")\n  File \"/usr/local/lib/python3.6/site-packages/tensorflow/python/ops/array_ops.py\", line 125, in identity\n    return gen_array_ops.identity(input, name=name)\n  File \"/usr/local/lib/python3.6/site-packages/tensorflow/python/ops/gen_array_ops.py\", line 2071, in identity\n    \"Identity\", input=input, name=name)\n  File \"/usr/local/lib/python3.6/site-packages/tensorflow/python/framework/op_def_library.py\", line 787, in _apply_op_helper\n    op_def=op_def)\n  File \"/usr/local/lib/python3.6/site-packages/tensorflow/python/framework/ops.py\", line 2956, in create_op\n    op_def=op_def)\n  File \"/usr/local/lib/python3.6/site-packages/tensorflow/python/framework/ops.py\", line 1470, in __init__\n    self._traceback = self._graph._extract_stack()  # pylint: disable=protected-access\n\nFailedPreconditionError (see above for traceback): Attempting to use uninitialized value b3\n\t [[Node: b3/read = Identity[T=DT_FLOAT, _class=[\"loc:@b3\"], _device=\"/job:localhost/replica:0/task:0/device:CPU:0\"](b3)]]\n"
     ]
    }
   ],
   "source": [
    "sess = tf.Session()\n",
    "#Run the test data and output csv\n",
    "Z3_test = forward_propagation(X, W1, b1, W2, b2, W3, b3)\n",
    "A3_test = tf.nn.softmax(Z3_test, dim=0)\n",
    "predict = np.argmax(sess.run(A3_test, feed_dict={X:test_images}), axis=0)\n",
    "predict = predict.reshape(predict.shape[0], 1)\n",
    "image_id = np.arange(1, len(predict) + 1, 1)\n",
    "image_id = image_id.reshape(len(predict), 1)\n",
    "np.savetxt('3-layer_L2_NN.csv', np.c_[image_id, predict], delimiter=',', header='ImageId,Label', comments='', fmt='%d')"
   ]
  },
  {
   "cell_type": "markdown",
   "metadata": {},
   "source": [
    "## 7. Close sess"
   ]
  },
  {
   "cell_type": "code",
   "execution_count": null,
   "metadata": {},
   "outputs": [],
   "source": [
    "sess.close()"
   ]
  }
 ],
 "metadata": {
  "kernelspec": {
   "display_name": "Python 3",
   "language": "python",
   "name": "python3"
  },
  "language_info": {
   "codemirror_mode": {
    "name": "ipython",
    "version": 3
   },
   "file_extension": ".py",
   "mimetype": "text/x-python",
   "name": "python",
   "nbconvert_exporter": "python",
   "pygments_lexer": "ipython3",
   "version": "3.6.4"
  }
 },
 "nbformat": 4,
 "nbformat_minor": 2
}
