{
 "cells": [
  {
   "cell_type": "code",
   "execution_count": 2,
   "metadata": {},
   "outputs": [
    {
     "name": "stderr",
     "output_type": "stream",
     "text": [
      "/usr/local/Cellar/python/3.6.4_3/Frameworks/Python.framework/Versions/3.6/lib/python3.6/importlib/_bootstrap.py:219: RuntimeWarning: compiletime version 3.5 of module 'tensorflow.python.framework.fast_tensor_util' does not match runtime version 3.6\n",
      "  return f(*args, **kwds)\n"
     ]
    }
   ],
   "source": [
    "import numpy as np\n",
    "import tensorflow as tf\n",
    "import pandas as pd\n",
    "import random as random"
   ]
  },
  {
   "cell_type": "code",
   "execution_count": 3,
   "metadata": {},
   "outputs": [],
   "source": [
    "PATH_TRAIN = './input/train.csv'\n",
    "PATH_TEST = './input/test.csv'\n",
    "\n",
    "\n",
    "def import_data(path_train, path_test):\n",
    "    '''\n",
    "    Import train data and test data from path.\n",
    "    '''\n",
    "    data_train = pd.read_csv(path_train).as_matrix()\n",
    "    data_test = pd.read_csv(path_test).as_matrix()\n",
    "\n",
    "    random.shuffle(data_train)\n",
    "    random.shuffle(data_test)\n",
    "    \n",
    "    return data_train[:, 1:], data_train[:, 0:1].reshape(data_train.shape[0], 1),\\\n",
    "            data_test[:, 1:], data_test[:, 0:1].reshape(data_test.shape[0], 1)\n",
    "\n",
    "def kernel_initializer(shape):\n",
    "    '''\n",
    "    Initial kernel in convolution layer or weight in full connection layer.\n",
    "    '''\n",
    "    initial = tf.truncated_normal(shape=shape, stddev=0.1, dtype=\"float32\")\n",
    "    return tf.Variable(initial_value=initial)\n",
    "\n",
    "def bias_initializer(shape):\n",
    "    initial = tf.constant(shape=shape, value=0, dtype=\"float32\")\n",
    "    return tf.Variable(initial_value=initial)\n",
    "    "
   ]
  },
  {
   "cell_type": "code",
   "execution_count": 4,
   "metadata": {},
   "outputs": [],
   "source": [
    "data_train, label_train, data_test, label_test = import_data(PATH_TRAIN, PATH_TEST)\n",
    "\n",
    "# Divide to validation data\n",
    "# 42000 = 4200 + 37800\n",
    "data_valid = data_train[0:4200, :]\n",
    "label_valid = label_train[0:4200, :].reshape([4200, 1])\n",
    "\n",
    "data_train = data_train[4200:, :]\n",
    "label_train = label_train[4200:, :].reshape([label_train.shape[0]-4200, 1])"
   ]
  },
  {
   "cell_type": "code",
   "execution_count": 5,
   "metadata": {},
   "outputs": [],
   "source": [
    "## Prepare for the trainable variables.\n",
    "\n",
    "# Convolution layer C1 trainable variables.\n",
    "kernel_c1 = kernel_initializer((5, 5, 1, 6))\n",
    "bias_c1 = bias_initializer((6, ))\n",
    "\n",
    "# Subsample layer S2 trainable variables.\n",
    "kernel_s2 = kernel_initializer((6,))\n",
    "bias_s2 = bias_initializer((6,))\n",
    "\n",
    "# Convolution layer C3 trainable variables.\n",
    "kernel_c3 = kernel_initializer((5, 5, 6, 16))\n",
    "bias_c3 = bias_initializer((16, ))\n",
    "\n",
    "# Subsample layer S4 trainable variables.\n",
    "kernel_s4 = kernel_initializer((16,))\n",
    "bias_s4 = bias_initializer((16,))\n",
    "\n",
    "# Convolution layer C5 trainable variables.\n",
    "kernel_c5 = kernel_initializer((4, 4, 16, 120))\n",
    "bias_c5 = bias_initializer((120,))\n",
    "\n",
    "# Full connection layer F6 trainable variables.\n",
    "kernel_f6 = kernel_initializer((120, 84))\n",
    "bias_f6 = bias_initializer((84,))\n",
    "\n",
    "# Full connection layer output trainable variables.\n",
    "kernel_f7 = kernel_initializer((84, 10))\n",
    "bias_f7 = bias_initializer((10,))\n",
    "\n"
   ]
  },
  {
   "cell_type": "code",
   "execution_count": 21,
   "metadata": {},
   "outputs": [],
   "source": [
    "## Forward propapation (connect the graph).\n",
    "\n",
    "batch = 420\n",
    "\n",
    "# Make placeholder.\n",
    "X = tf.placeholder(shape=(batch, 28, 28, 1), dtype=\"float32\")\n",
    "Y = tf.placeholder(shape=(1, batch), dtype=\"float32\")\n",
    "\n",
    "# Convolution layer 1, kernel = 5x5x6, output batchx24x24x6（add relu layer）\n",
    "# X1 = tf.nn.conv2d(X, kernel_c1, strides=[1, 1, 1, 1], padding=\"VALID\")+bias_c1\n",
    "conv1 = tf.nn.conv2d(X, kernel_c1, strides=[1, 1, 1, 1], padding=\"VALID\")\n",
    "X1 = tf.nn.relu(tf.nn.bias_add(conv1, bias_c1))\n",
    "\n",
    "# Subsample layer 2, output batchx12x12x6\n",
    "# X2 = tf.nn.avg_pool(X1, [1, 2, 2, 1], strides=[1, 2, 2, 1], padding=\"VALID\")*kernel_s2+bias_s2\n",
    "X2 = tf.nn.max_pool(X1, [1, 2, 2, 1], strides=[1, 2, 2, 1], padding=\"VALID\")\n",
    "\n",
    "# Convolution layer 3, kernel = 5x5x6x16, output batchx8x8x16\n",
    "# X3 = tf.nn.conv2d(X2, kernel_c3, strides=[1, 1, 1, 1], padding=\"VALID\")+bias_c3\n",
    "conv3 = tf.nn.conv2d(X2, kernel_c3, strides=[1, 1, 1, 1], padding=\"VALID\")\n",
    "X3 = tf.nn.relu(tf.nn.bias_add(conv3, bias_c3))\n",
    "\n",
    "# Subsample layer 4, output batchx4x4x16\n",
    "#X4 = tf.nn.avg_pool(X3, [1, 2, 2, 1], strides=[1, 2, 2, 1], padding=\"VALID\")*kernel_s4+bias_s4\n",
    "X4 = tf.nn.max_pool(X3, [1, 2, 2, 1], strides=[1, 2, 2, 1], padding=\"VALID\")\n",
    "\n",
    "# Convolution layer 5, kernel = 4x4x16x120, output batchx1x1x120\n",
    "conv5 = tf.nn.conv2d(X4, kernel_c5, strides=[1, 1, 1, 1], padding=\"VALID\")\n",
    "X5 = tf.nn.relu(tf.nn.bias_add(conv5, bias_c5))\n",
    "\n",
    "X5_ = tf.reshape(X5, [-1, 120])\n",
    "\n",
    "# Full Connection Layer 6, kernel = 1x1x120x84, output batchx1x1x84\n",
    "X6 = tf.nn.relu(tf.matmul(X5_, kernel_f6)+bias_f6)\n",
    "\n",
    "# Full Connection Layer 7, kernel = 84x10, output batchx1x1x10\n",
    "X7 = tf.matmul(X6, kernel_f7)+bias_f7\n",
    "\n",
    "# Compute loss and make optimite\n",
    "loss = tf.nn.sparse_softmax_cross_entropy_with_logits(labels=tf.reshape(tf.to_int64(Y), [batch, ]),\\\n",
    "                                             logits=X7)\n",
    "# X7_ = tf.reduce_max(X7, axis=-1)\n",
    "# loss = tf.nn.softmax_cross_entropy_with_logits(labels = Y, logits = X7_)\n",
    "optimite = tf.train.GradientDescentOptimizer(learning_rate=0.00002).minimize(loss)\n",
    "\n",
    "# Compute accuracy\n",
    "Y_ = tf.arg_max(X7, dimension=-1)\n",
    "accuracy = 1-tf.count_nonzero(tf.to_int64(tf.squeeze(Y))-tf.squeeze(Y_))/batch\n"
   ]
  },
  {
   "cell_type": "code",
   "execution_count": 22,
   "metadata": {},
   "outputs": [],
   "source": [
    "sess = tf.Session()\n",
    "g_init = tf.global_variables_initializer()\n",
    "sess.run(g_init)"
   ]
  },
  {
   "cell_type": "code",
   "execution_count": 27,
   "metadata": {},
   "outputs": [
    {
     "name": "stdout",
     "output_type": "stream",
     "text": [
      "0.9976190476190476\n",
      "0.9976190476190476\n",
      "0.9928571428571429\n",
      "1.0\n",
      "0.9952380952380953\n",
      "0.9904761904761905\n",
      "0.9976190476190476\n",
      "0.9952380952380953\n",
      "0.9976190476190476\n",
      "0.9833333333333333\n"
     ]
    }
   ],
   "source": [
    "for i in range(round(data_valid.shape[0]/batch)):\n",
    "    acc = sess.run(accuracy, \\\n",
    "                 feed_dict={X: data_valid[i*batch:(i+1)*batch, :].reshape([batch, 28, 28, 1]),\\\n",
    "                            Y: label_valid[i*batch:(i+1)*batch].reshape([1, batch])})\n",
    "    print(acc)"
   ]
  },
  {
   "cell_type": "code",
   "execution_count": 25,
   "metadata": {},
   "outputs": [
    {
     "name": "stdout",
     "output_type": "stream",
     "text": [
      "0.8999047619047622\n",
      "0.8999285714285716\n",
      "0.8999523809523811\n",
      "0.8999523809523811\n",
      "0.8999523809523811\n",
      "0.8999523809523811\n",
      "0.8999523809523811\n",
      "0.8999523809523811\n",
      "0.8999523809523811\n",
      "0.8999761904761905\n",
      "0.9\n",
      "0.9\n",
      "0.9\n",
      "0.9\n",
      "0.9\n",
      "0.9\n",
      "0.9\n",
      "0.9\n",
      "0.9\n",
      "0.9\n",
      "0.9\n",
      "0.9\n",
      "0.9\n",
      "0.9\n",
      "0.9\n",
      "0.9\n",
      "0.9\n",
      "0.9\n",
      "0.9\n",
      "0.9\n"
     ]
    },
    {
     "ename": "KeyboardInterrupt",
     "evalue": "",
     "output_type": "error",
     "traceback": [
      "\u001b[0;31m---------------------------------------------------------------------------\u001b[0m",
      "\u001b[0;31mKeyboardInterrupt\u001b[0m                         Traceback (most recent call last)",
      "\u001b[0;32m<ipython-input-25-a935a83fba4d>\u001b[0m in \u001b[0;36m<module>\u001b[0;34m()\u001b[0m\n\u001b[1;32m      4\u001b[0m     \u001b[0maccuracy_epoch\u001b[0m \u001b[0;34m=\u001b[0m \u001b[0;36m0\u001b[0m\u001b[0;34m\u001b[0m\u001b[0m\n\u001b[1;32m      5\u001b[0m     \u001b[0;32mfor\u001b[0m \u001b[0mi\u001b[0m \u001b[0;32min\u001b[0m \u001b[0mrange\u001b[0m\u001b[0;34m(\u001b[0m\u001b[0mround\u001b[0m\u001b[0;34m(\u001b[0m\u001b[0mdata_train\u001b[0m\u001b[0;34m.\u001b[0m\u001b[0mshape\u001b[0m\u001b[0;34m[\u001b[0m\u001b[0;36m0\u001b[0m\u001b[0;34m]\u001b[0m\u001b[0;34m/\u001b[0m\u001b[0mbatch\u001b[0m\u001b[0;34m)\u001b[0m\u001b[0;34m)\u001b[0m\u001b[0;34m:\u001b[0m\u001b[0;34m\u001b[0m\u001b[0m\n\u001b[0;32m----> 6\u001b[0;31m         \u001b[0m_\u001b[0m\u001b[0;34m,\u001b[0m \u001b[0macc\u001b[0m \u001b[0;34m=\u001b[0m \u001b[0msess\u001b[0m\u001b[0;34m.\u001b[0m\u001b[0mrun\u001b[0m\u001b[0;34m(\u001b[0m\u001b[0;34m[\u001b[0m\u001b[0moptimite\u001b[0m\u001b[0;34m,\u001b[0m \u001b[0maccuracy\u001b[0m\u001b[0;34m]\u001b[0m\u001b[0;34m,\u001b[0m                                  \u001b[0mfeed_dict\u001b[0m\u001b[0;34m=\u001b[0m\u001b[0;34m{\u001b[0m\u001b[0mX\u001b[0m\u001b[0;34m:\u001b[0m \u001b[0mdata_train\u001b[0m\u001b[0;34m[\u001b[0m\u001b[0mi\u001b[0m\u001b[0;34m*\u001b[0m\u001b[0mbatch\u001b[0m\u001b[0;34m:\u001b[0m\u001b[0;34m(\u001b[0m\u001b[0mi\u001b[0m\u001b[0;34m+\u001b[0m\u001b[0;36m1\u001b[0m\u001b[0;34m)\u001b[0m\u001b[0;34m*\u001b[0m\u001b[0mbatch\u001b[0m\u001b[0;34m,\u001b[0m \u001b[0;34m:\u001b[0m\u001b[0;34m]\u001b[0m\u001b[0;34m.\u001b[0m\u001b[0mreshape\u001b[0m\u001b[0;34m(\u001b[0m\u001b[0;34m[\u001b[0m\u001b[0mbatch\u001b[0m\u001b[0;34m,\u001b[0m \u001b[0;36m28\u001b[0m\u001b[0;34m,\u001b[0m \u001b[0;36m28\u001b[0m\u001b[0;34m,\u001b[0m \u001b[0;36m1\u001b[0m\u001b[0;34m]\u001b[0m\u001b[0;34m)\u001b[0m\u001b[0;34m,\u001b[0m                                            \u001b[0mY\u001b[0m\u001b[0;34m:\u001b[0m \u001b[0mlabel_train\u001b[0m\u001b[0;34m[\u001b[0m\u001b[0mi\u001b[0m\u001b[0;34m*\u001b[0m\u001b[0mbatch\u001b[0m\u001b[0;34m:\u001b[0m\u001b[0;34m(\u001b[0m\u001b[0mi\u001b[0m\u001b[0;34m+\u001b[0m\u001b[0;36m1\u001b[0m\u001b[0;34m)\u001b[0m\u001b[0;34m*\u001b[0m\u001b[0mbatch\u001b[0m\u001b[0;34m]\u001b[0m\u001b[0;34m.\u001b[0m\u001b[0mreshape\u001b[0m\u001b[0;34m(\u001b[0m\u001b[0;34m[\u001b[0m\u001b[0;36m1\u001b[0m\u001b[0;34m,\u001b[0m \u001b[0mbatch\u001b[0m\u001b[0;34m]\u001b[0m\u001b[0;34m)\u001b[0m\u001b[0;34m}\u001b[0m\u001b[0;34m)\u001b[0m\u001b[0;34m\u001b[0m\u001b[0m\n\u001b[0m\u001b[1;32m      7\u001b[0m         \u001b[0maccuracy_epoch\u001b[0m \u001b[0;34m+=\u001b[0m \u001b[0macc\u001b[0m\u001b[0;34m\u001b[0m\u001b[0m\n\u001b[1;32m      8\u001b[0m     \u001b[0mprint\u001b[0m\u001b[0;34m(\u001b[0m\u001b[0maccuracy_epoch\u001b[0m\u001b[0;34m/\u001b[0m\u001b[0mepoch\u001b[0m\u001b[0;34m)\u001b[0m\u001b[0;34m\u001b[0m\u001b[0m\n",
      "\u001b[0;32m/usr/local/lib/python3.6/site-packages/tensorflow/python/client/session.py\u001b[0m in \u001b[0;36mrun\u001b[0;34m(self, fetches, feed_dict, options, run_metadata)\u001b[0m\n\u001b[1;32m    887\u001b[0m     \u001b[0;32mtry\u001b[0m\u001b[0;34m:\u001b[0m\u001b[0;34m\u001b[0m\u001b[0m\n\u001b[1;32m    888\u001b[0m       result = self._run(None, fetches, feed_dict, options_ptr,\n\u001b[0;32m--> 889\u001b[0;31m                          run_metadata_ptr)\n\u001b[0m\u001b[1;32m    890\u001b[0m       \u001b[0;32mif\u001b[0m \u001b[0mrun_metadata\u001b[0m\u001b[0;34m:\u001b[0m\u001b[0;34m\u001b[0m\u001b[0m\n\u001b[1;32m    891\u001b[0m         \u001b[0mproto_data\u001b[0m \u001b[0;34m=\u001b[0m \u001b[0mtf_session\u001b[0m\u001b[0;34m.\u001b[0m\u001b[0mTF_GetBuffer\u001b[0m\u001b[0;34m(\u001b[0m\u001b[0mrun_metadata_ptr\u001b[0m\u001b[0;34m)\u001b[0m\u001b[0;34m\u001b[0m\u001b[0m\n",
      "\u001b[0;32m/usr/local/lib/python3.6/site-packages/tensorflow/python/client/session.py\u001b[0m in \u001b[0;36m_run\u001b[0;34m(self, handle, fetches, feed_dict, options, run_metadata)\u001b[0m\n\u001b[1;32m   1118\u001b[0m     \u001b[0;32mif\u001b[0m \u001b[0mfinal_fetches\u001b[0m \u001b[0;32mor\u001b[0m \u001b[0mfinal_targets\u001b[0m \u001b[0;32mor\u001b[0m \u001b[0;34m(\u001b[0m\u001b[0mhandle\u001b[0m \u001b[0;32mand\u001b[0m \u001b[0mfeed_dict_tensor\u001b[0m\u001b[0;34m)\u001b[0m\u001b[0;34m:\u001b[0m\u001b[0;34m\u001b[0m\u001b[0m\n\u001b[1;32m   1119\u001b[0m       results = self._do_run(handle, final_targets, final_fetches,\n\u001b[0;32m-> 1120\u001b[0;31m                              feed_dict_tensor, options, run_metadata)\n\u001b[0m\u001b[1;32m   1121\u001b[0m     \u001b[0;32melse\u001b[0m\u001b[0;34m:\u001b[0m\u001b[0;34m\u001b[0m\u001b[0m\n\u001b[1;32m   1122\u001b[0m       \u001b[0mresults\u001b[0m \u001b[0;34m=\u001b[0m \u001b[0;34m[\u001b[0m\u001b[0;34m]\u001b[0m\u001b[0;34m\u001b[0m\u001b[0m\n",
      "\u001b[0;32m/usr/local/lib/python3.6/site-packages/tensorflow/python/client/session.py\u001b[0m in \u001b[0;36m_do_run\u001b[0;34m(self, handle, target_list, fetch_list, feed_dict, options, run_metadata)\u001b[0m\n\u001b[1;32m   1315\u001b[0m     \u001b[0;32mif\u001b[0m \u001b[0mhandle\u001b[0m \u001b[0;32mis\u001b[0m \u001b[0;32mNone\u001b[0m\u001b[0;34m:\u001b[0m\u001b[0;34m\u001b[0m\u001b[0m\n\u001b[1;32m   1316\u001b[0m       return self._do_call(_run_fn, self._session, feeds, fetches, targets,\n\u001b[0;32m-> 1317\u001b[0;31m                            options, run_metadata)\n\u001b[0m\u001b[1;32m   1318\u001b[0m     \u001b[0;32melse\u001b[0m\u001b[0;34m:\u001b[0m\u001b[0;34m\u001b[0m\u001b[0m\n\u001b[1;32m   1319\u001b[0m       \u001b[0;32mreturn\u001b[0m \u001b[0mself\u001b[0m\u001b[0;34m.\u001b[0m\u001b[0m_do_call\u001b[0m\u001b[0;34m(\u001b[0m\u001b[0m_prun_fn\u001b[0m\u001b[0;34m,\u001b[0m \u001b[0mself\u001b[0m\u001b[0;34m.\u001b[0m\u001b[0m_session\u001b[0m\u001b[0;34m,\u001b[0m \u001b[0mhandle\u001b[0m\u001b[0;34m,\u001b[0m \u001b[0mfeeds\u001b[0m\u001b[0;34m,\u001b[0m \u001b[0mfetches\u001b[0m\u001b[0;34m)\u001b[0m\u001b[0;34m\u001b[0m\u001b[0m\n",
      "\u001b[0;32m/usr/local/lib/python3.6/site-packages/tensorflow/python/client/session.py\u001b[0m in \u001b[0;36m_do_call\u001b[0;34m(self, fn, *args)\u001b[0m\n\u001b[1;32m   1321\u001b[0m   \u001b[0;32mdef\u001b[0m \u001b[0m_do_call\u001b[0m\u001b[0;34m(\u001b[0m\u001b[0mself\u001b[0m\u001b[0;34m,\u001b[0m \u001b[0mfn\u001b[0m\u001b[0;34m,\u001b[0m \u001b[0;34m*\u001b[0m\u001b[0margs\u001b[0m\u001b[0;34m)\u001b[0m\u001b[0;34m:\u001b[0m\u001b[0;34m\u001b[0m\u001b[0m\n\u001b[1;32m   1322\u001b[0m     \u001b[0;32mtry\u001b[0m\u001b[0;34m:\u001b[0m\u001b[0;34m\u001b[0m\u001b[0m\n\u001b[0;32m-> 1323\u001b[0;31m       \u001b[0;32mreturn\u001b[0m \u001b[0mfn\u001b[0m\u001b[0;34m(\u001b[0m\u001b[0;34m*\u001b[0m\u001b[0margs\u001b[0m\u001b[0;34m)\u001b[0m\u001b[0;34m\u001b[0m\u001b[0m\n\u001b[0m\u001b[1;32m   1324\u001b[0m     \u001b[0;32mexcept\u001b[0m \u001b[0merrors\u001b[0m\u001b[0;34m.\u001b[0m\u001b[0mOpError\u001b[0m \u001b[0;32mas\u001b[0m \u001b[0me\u001b[0m\u001b[0;34m:\u001b[0m\u001b[0;34m\u001b[0m\u001b[0m\n\u001b[1;32m   1325\u001b[0m       \u001b[0mmessage\u001b[0m \u001b[0;34m=\u001b[0m \u001b[0mcompat\u001b[0m\u001b[0;34m.\u001b[0m\u001b[0mas_text\u001b[0m\u001b[0;34m(\u001b[0m\u001b[0me\u001b[0m\u001b[0;34m.\u001b[0m\u001b[0mmessage\u001b[0m\u001b[0;34m)\u001b[0m\u001b[0;34m\u001b[0m\u001b[0m\n",
      "\u001b[0;32m/usr/local/lib/python3.6/site-packages/tensorflow/python/client/session.py\u001b[0m in \u001b[0;36m_run_fn\u001b[0;34m(session, feed_dict, fetch_list, target_list, options, run_metadata)\u001b[0m\n\u001b[1;32m   1300\u001b[0m           return tf_session.TF_Run(session, options,\n\u001b[1;32m   1301\u001b[0m                                    \u001b[0mfeed_dict\u001b[0m\u001b[0;34m,\u001b[0m \u001b[0mfetch_list\u001b[0m\u001b[0;34m,\u001b[0m \u001b[0mtarget_list\u001b[0m\u001b[0;34m,\u001b[0m\u001b[0;34m\u001b[0m\u001b[0m\n\u001b[0;32m-> 1302\u001b[0;31m                                    status, run_metadata)\n\u001b[0m\u001b[1;32m   1303\u001b[0m \u001b[0;34m\u001b[0m\u001b[0m\n\u001b[1;32m   1304\u001b[0m     \u001b[0;32mdef\u001b[0m \u001b[0m_prun_fn\u001b[0m\u001b[0;34m(\u001b[0m\u001b[0msession\u001b[0m\u001b[0;34m,\u001b[0m \u001b[0mhandle\u001b[0m\u001b[0;34m,\u001b[0m \u001b[0mfeed_dict\u001b[0m\u001b[0;34m,\u001b[0m \u001b[0mfetch_list\u001b[0m\u001b[0;34m)\u001b[0m\u001b[0;34m:\u001b[0m\u001b[0;34m\u001b[0m\u001b[0m\n",
      "\u001b[0;31mKeyboardInterrupt\u001b[0m: "
     ]
    }
   ],
   "source": [
    "# Train\n",
    "epoch = 100\n",
    "for train_epoch in range(epoch):\n",
    "    accuracy_epoch = 0\n",
    "    for i in range(round(data_train.shape[0]/batch)):\n",
    "        _, acc = sess.run([optimite, accuracy], \\\n",
    "                                 feed_dict={X: data_train[i*batch:(i+1)*batch, :].reshape([batch, 28, 28, 1]),\\\n",
    "                                            Y: label_train[i*batch:(i+1)*batch].reshape([1, batch])})\n",
    "        accuracy_epoch += acc\n",
    "    print(accuracy_epoch/epoch)"
   ]
  },
  {
   "cell_type": "code",
   "execution_count": 161,
   "metadata": {},
   "outputs": [
    {
     "name": "stdout",
     "output_type": "stream",
     "text": [
      "<tf.Variable 'Variable_28:0' shape=(5, 5, 1, 6) dtype=float32_ref>\n"
     ]
    }
   ],
   "source": [
    "# 0.1019285714285714\n",
    "# 0.3799285714285714\n",
    "# 0.7200952380952382\n",
    "# 0.7826190476190475\n",
    "# 0.811238095238095\n",
    "# 0.8265952380952376\n",
    "# 0.8364761904761905\n",
    "# 0.8434761904761899\n",
    "# 0.8490476190476192\n",
    "# 0.8529999999999995\n",
    "# 0.8569285714285715\n",
    "# 0.8603571428571429\n",
    "# 0.8635238095238092\n",
    "# 0.8660952380952379\n",
    "# 0.8684285714285711\n",
    "# 0.8703571428571428\n",
    "# 0.8723095238095236\n",
    "# 0.8739523809523808\n",
    "# 0.8758333333333329\n",
    "# 0.8768571428571426\n",
    "# 0.8779999999999998\n",
    "# 0.8792380952380949\n",
    "# 0.8802619047619045\n",
    "# 0.8810476190476186\n",
    "# 0.8818095238095234\n",
    "# 0.8827142857142856\n",
    "# 0.8837857142857141\n",
    "# 0.8844761904761905\n",
    "# 0.8853571428571427\n",
    "# 0.8860714285714285\n",
    "# 0.8866666666666666\n",
    "# 0.887\n",
    "# 0.8875476190476188\n",
    "# 0.8880714285714284\n",
    "# 0.8886190476190474\n",
    "# 0.8890238095238093\n",
    "# 0.8894999999999997\n",
    "# 0.8902619047619047\n",
    "# 0.8908809523809519\n",
    "# 0.8915238095238093\n",
    "# 0.8919047619047618\n",
    "# 0.8921904761904758\n",
    "# 0.8926904761904758\n",
    "# 0.8930238095238089\n",
    "# 0.8934047619047614\n",
    "# 0.8937619047619044\n",
    "# 0.894095238095238\n",
    "# 0.8944285714285715\n",
    "# 0.8947857142857144\n",
    "# 0.8950238095238096\n",
    "# 0.8953333333333334\n",
    "# 0.8956190476190479\n",
    "# 0.8957857142857142\n",
    "# 0.8959523809523811\n",
    "# 0.8961666666666666\n",
    "# 0.8965238095238095\n",
    "# 0.896857142857143\n",
    "# 0.897047619047619\n",
    "# 0.8972142857142856\n",
    "# 0.8972619047619048\n",
    "# 0.8975000000000002\n",
    "# 0.8974523809523809\n",
    "# 0.897619047619048\n",
    "# 0.8977857142857146\n",
    "# 0.8972380952380954\n",
    "# 0.8976190476190479\n",
    "# 0.897809523809524\n",
    "# 0.8981904761904762\n",
    "# 0.8982857142857144\n",
    "# 0.8983571428571432\n",
    "# 0.8982142857142857\n",
    "# 0.8985476190476193\n",
    "# 0.8970952380952381\n",
    "# 0.8981190476190478\n",
    "# 0.8986904761904766\n",
    "# 0.8987857142857145\n",
    "# 0.8980238095238096\n",
    "# 0.8987142857142862\n",
    "# 0.8985476190476193\n",
    "# 0.8988809523809524\n",
    "# 0.8989523809523812\n",
    "# 0.8990952380952385\n",
    "# 0.8991428571428574\n",
    "# 0.8991904761904767\n",
    "# 0.8992857142857146\n",
    "# 0.8993333333333337\n",
    "# 0.8993333333333337\n",
    "# 0.8993809523809527\n",
    "# 0.8994047619047622\n",
    "# 0.8995000000000003\n",
    "# 0.8994523809523813\n",
    "# 0.8995000000000003\n",
    "# 0.8995000000000003\n",
    "# 0.8995714285714288\n",
    "# 0.8995952380952386\n",
    "# 0.8995952380952384\n",
    "# 0.8996666666666671\n",
    "# 0.8996666666666671\n",
    "# 0.8996666666666671\n",
    "# 0.899714285714286"
   ]
  },
  {
   "cell_type": "code",
   "execution_count": 27,
   "metadata": {},
   "outputs": [],
   "source": [
    "import matplotlib.pyplot as plt"
   ]
  },
  {
   "cell_type": "code",
   "execution_count": 74,
   "metadata": {},
   "outputs": [
    {
     "data": {
      "image/png": "[encoded data removed]",
      "text/plain": [
       "<matplotlib.figure.Figure at 0x11713ff28>"
      ]
     },
     "metadata": {},
     "output_type": "display_data"
    }
   ],
   "source": [
    "plt.imshow(X=data_train[3423, :].reshape([28, 28]))\n",
    "plt.show()"
   ]
  },
  {
   "cell_type": "code",
   "execution_count": 76,
   "metadata": {},
   "outputs": [
    {
     "data": {
      "text/plain": [
       "array([3])"
      ]
     },
     "execution_count": 76,
     "metadata": {},
     "output_type": "execute_result"
    }
   ],
   "source": [
    "label_train.reshape([label_train.shape[0], 1])[3423]"
   ]
  },
  {
   "cell_type": "code",
   "execution_count": null,
   "metadata": {},
   "outputs": [],
   "source": []
  }
 ],
 "metadata": {
  "kernelspec": {
   "display_name": "Python 3",
   "language": "python",
   "name": "python3"
  },
  "language_info": {
   "codemirror_mode": {
    "name": "ipython",
    "version": 3
   },
   "file_extension": ".py",
   "mimetype": "text/x-python",
   "name": "python",
   "nbconvert_exporter": "python",
   "pygments_lexer": "ipython3",
   "version": "3.6.4"
  }
 },
 "nbformat": 4,
 "nbformat_minor": 2
}
